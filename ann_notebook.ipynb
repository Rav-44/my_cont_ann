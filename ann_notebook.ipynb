{
 "cells": [
  {
   "cell_type": "code",
   "execution_count": 1,
   "id": "5e8bfecc-adc0-46b3-b118-5276c534d555",
   "metadata": {},
   "outputs": [],
   "source": [
    "import voila "
   ]
  },
  {
   "cell_type": "code",
   "execution_count": 2,
   "id": "5ce96fba-28da-46e4-ad4b-43b900a88d9d",
   "metadata": {},
   "outputs": [],
   "source": [
    "import nbgitpuller"
   ]
  },
  {
   "cell_type": "code",
   "execution_count": 3,
   "id": "2c1b01eb-c9a1-43e6-ad8d-d4e97e3cbea8",
   "metadata": {},
   "outputs": [],
   "source": [
    "import pandas as pd \n",
    "import numpy as np \n",
    "import tensorflow\n",
    "import seaborn as sns\n",
    "import matplotlib.pyplot as plt\n"
   ]
  },
  {
   "cell_type": "code",
   "execution_count": 4,
   "id": "6db1693b-835e-40f0-b23d-dac33fd6bbd4",
   "metadata": {},
   "outputs": [],
   "source": [
    "pd.set_option('display.max_columns', None)\n",
    "pd.set_option('display.max_rows', None)"
   ]
  },
  {
   "cell_type": "code",
   "execution_count": 5,
   "id": "b7e8c0ab-5bd0-4d0b-982f-9fa1a0fd0635",
   "metadata": {},
   "outputs": [
    {
     "data": {
      "text/html": [
       "<div>\n",
       "<style scoped>\n",
       "    .dataframe tbody tr th:only-of-type {\n",
       "        vertical-align: middle;\n",
       "    }\n",
       "\n",
       "    .dataframe tbody tr th {\n",
       "        vertical-align: top;\n",
       "    }\n",
       "\n",
       "    .dataframe thead th {\n",
       "        text-align: right;\n",
       "    }\n",
       "</style>\n",
       "<table border=\"1\" class=\"dataframe\">\n",
       "  <thead>\n",
       "    <tr style=\"text-align: right;\">\n",
       "      <th></th>\n",
       "      <th>car_ID</th>\n",
       "      <th>symboling</th>\n",
       "      <th>CarName</th>\n",
       "      <th>fueltype</th>\n",
       "      <th>aspiration</th>\n",
       "      <th>doornumber</th>\n",
       "      <th>carbody</th>\n",
       "      <th>drivewheel</th>\n",
       "      <th>enginelocation</th>\n",
       "      <th>wheelbase</th>\n",
       "      <th>carlength</th>\n",
       "      <th>carwidth</th>\n",
       "      <th>carheight</th>\n",
       "      <th>curbweight</th>\n",
       "      <th>enginetype</th>\n",
       "      <th>cylindernumber</th>\n",
       "      <th>enginesize</th>\n",
       "      <th>fuelsystem</th>\n",
       "      <th>boreratio</th>\n",
       "      <th>stroke</th>\n",
       "      <th>compressionratio</th>\n",
       "      <th>horsepower</th>\n",
       "      <th>peakrpm</th>\n",
       "      <th>citympg</th>\n",
       "      <th>highwaympg</th>\n",
       "      <th>price</th>\n",
       "    </tr>\n",
       "  </thead>\n",
       "  <tbody>\n",
       "    <tr>\n",
       "      <th>0</th>\n",
       "      <td>1</td>\n",
       "      <td>3</td>\n",
       "      <td>alfa-romero giulia</td>\n",
       "      <td>gas</td>\n",
       "      <td>std</td>\n",
       "      <td>two</td>\n",
       "      <td>convertible</td>\n",
       "      <td>rwd</td>\n",
       "      <td>front</td>\n",
       "      <td>88.6</td>\n",
       "      <td>168.8</td>\n",
       "      <td>64.1</td>\n",
       "      <td>48.8</td>\n",
       "      <td>2548</td>\n",
       "      <td>dohc</td>\n",
       "      <td>four</td>\n",
       "      <td>130</td>\n",
       "      <td>mpfi</td>\n",
       "      <td>3.47</td>\n",
       "      <td>2.68</td>\n",
       "      <td>9.0</td>\n",
       "      <td>111</td>\n",
       "      <td>5000</td>\n",
       "      <td>21</td>\n",
       "      <td>27</td>\n",
       "      <td>13495.0</td>\n",
       "    </tr>\n",
       "    <tr>\n",
       "      <th>1</th>\n",
       "      <td>2</td>\n",
       "      <td>3</td>\n",
       "      <td>alfa-romero stelvio</td>\n",
       "      <td>gas</td>\n",
       "      <td>std</td>\n",
       "      <td>two</td>\n",
       "      <td>convertible</td>\n",
       "      <td>rwd</td>\n",
       "      <td>front</td>\n",
       "      <td>88.6</td>\n",
       "      <td>168.8</td>\n",
       "      <td>64.1</td>\n",
       "      <td>48.8</td>\n",
       "      <td>2548</td>\n",
       "      <td>dohc</td>\n",
       "      <td>four</td>\n",
       "      <td>130</td>\n",
       "      <td>mpfi</td>\n",
       "      <td>3.47</td>\n",
       "      <td>2.68</td>\n",
       "      <td>9.0</td>\n",
       "      <td>111</td>\n",
       "      <td>5000</td>\n",
       "      <td>21</td>\n",
       "      <td>27</td>\n",
       "      <td>16500.0</td>\n",
       "    </tr>\n",
       "    <tr>\n",
       "      <th>2</th>\n",
       "      <td>3</td>\n",
       "      <td>1</td>\n",
       "      <td>alfa-romero Quadrifoglio</td>\n",
       "      <td>gas</td>\n",
       "      <td>std</td>\n",
       "      <td>two</td>\n",
       "      <td>hatchback</td>\n",
       "      <td>rwd</td>\n",
       "      <td>front</td>\n",
       "      <td>94.5</td>\n",
       "      <td>171.2</td>\n",
       "      <td>65.5</td>\n",
       "      <td>52.4</td>\n",
       "      <td>2823</td>\n",
       "      <td>ohcv</td>\n",
       "      <td>six</td>\n",
       "      <td>152</td>\n",
       "      <td>mpfi</td>\n",
       "      <td>2.68</td>\n",
       "      <td>3.47</td>\n",
       "      <td>9.0</td>\n",
       "      <td>154</td>\n",
       "      <td>5000</td>\n",
       "      <td>19</td>\n",
       "      <td>26</td>\n",
       "      <td>16500.0</td>\n",
       "    </tr>\n",
       "  </tbody>\n",
       "</table>\n",
       "</div>"
      ],
      "text/plain": [
       "   car_ID  symboling                   CarName fueltype aspiration doornumber  \\\n",
       "0       1          3        alfa-romero giulia      gas        std        two   \n",
       "1       2          3       alfa-romero stelvio      gas        std        two   \n",
       "2       3          1  alfa-romero Quadrifoglio      gas        std        two   \n",
       "\n",
       "       carbody drivewheel enginelocation  wheelbase  carlength  carwidth  \\\n",
       "0  convertible        rwd          front       88.6      168.8      64.1   \n",
       "1  convertible        rwd          front       88.6      168.8      64.1   \n",
       "2    hatchback        rwd          front       94.5      171.2      65.5   \n",
       "\n",
       "   carheight  curbweight enginetype cylindernumber  enginesize fuelsystem  \\\n",
       "0       48.8        2548       dohc           four         130       mpfi   \n",
       "1       48.8        2548       dohc           four         130       mpfi   \n",
       "2       52.4        2823       ohcv            six         152       mpfi   \n",
       "\n",
       "   boreratio  stroke  compressionratio  horsepower  peakrpm  citympg  \\\n",
       "0       3.47    2.68               9.0         111     5000       21   \n",
       "1       3.47    2.68               9.0         111     5000       21   \n",
       "2       2.68    3.47               9.0         154     5000       19   \n",
       "\n",
       "   highwaympg    price  \n",
       "0          27  13495.0  \n",
       "1          27  16500.0  \n",
       "2          26  16500.0  "
      ]
     },
     "execution_count": 5,
     "metadata": {},
     "output_type": "execute_result"
    }
   ],
   "source": [
    "df= pd.read_csv(\"CarPrice.csv\")\n",
    "df.head(3)"
   ]
  },
  {
   "cell_type": "code",
   "execution_count": 6,
   "id": "51e0e718-e1d6-4822-80a6-173ed86c95cd",
   "metadata": {},
   "outputs": [
    {
     "data": {
      "text/plain": [
       "(200, 26)"
      ]
     },
     "execution_count": 6,
     "metadata": {},
     "output_type": "execute_result"
    }
   ],
   "source": [
    "df.shape"
   ]
  },
  {
   "cell_type": "code",
   "execution_count": 7,
   "id": "326b0296-1283-4cb2-a93a-37c4522ad3d2",
   "metadata": {},
   "outputs": [
    {
     "data": {
      "text/html": [
       "<div>\n",
       "<style scoped>\n",
       "    .dataframe tbody tr th:only-of-type {\n",
       "        vertical-align: middle;\n",
       "    }\n",
       "\n",
       "    .dataframe tbody tr th {\n",
       "        vertical-align: top;\n",
       "    }\n",
       "\n",
       "    .dataframe thead th {\n",
       "        text-align: right;\n",
       "    }\n",
       "</style>\n",
       "<table border=\"1\" class=\"dataframe\">\n",
       "  <thead>\n",
       "    <tr style=\"text-align: right;\">\n",
       "      <th></th>\n",
       "      <th>car_ID</th>\n",
       "      <th>symboling</th>\n",
       "      <th>wheelbase</th>\n",
       "      <th>carlength</th>\n",
       "      <th>carwidth</th>\n",
       "      <th>carheight</th>\n",
       "      <th>curbweight</th>\n",
       "      <th>enginesize</th>\n",
       "      <th>boreratio</th>\n",
       "      <th>stroke</th>\n",
       "      <th>compressionratio</th>\n",
       "      <th>horsepower</th>\n",
       "      <th>peakrpm</th>\n",
       "      <th>citympg</th>\n",
       "      <th>highwaympg</th>\n",
       "      <th>price</th>\n",
       "    </tr>\n",
       "  </thead>\n",
       "  <tbody>\n",
       "    <tr>\n",
       "      <th>count</th>\n",
       "      <td>200.000000</td>\n",
       "      <td>200.000000</td>\n",
       "      <td>200.00000</td>\n",
       "      <td>200.000000</td>\n",
       "      <td>200.000000</td>\n",
       "      <td>200.000000</td>\n",
       "      <td>200.000000</td>\n",
       "      <td>200.000000</td>\n",
       "      <td>200.000000</td>\n",
       "      <td>200.000000</td>\n",
       "      <td>200.000000</td>\n",
       "      <td>200.00000</td>\n",
       "      <td>200.000000</td>\n",
       "      <td>200.000000</td>\n",
       "      <td>200.000000</td>\n",
       "      <td>200.000000</td>\n",
       "    </tr>\n",
       "    <tr>\n",
       "      <th>mean</th>\n",
       "      <td>100.500000</td>\n",
       "      <td>0.880000</td>\n",
       "      <td>98.49800</td>\n",
       "      <td>173.680500</td>\n",
       "      <td>65.833500</td>\n",
       "      <td>53.680500</td>\n",
       "      <td>2542.995000</td>\n",
       "      <td>126.375000</td>\n",
       "      <td>3.323350</td>\n",
       "      <td>3.258200</td>\n",
       "      <td>10.098600</td>\n",
       "      <td>103.58000</td>\n",
       "      <td>5121.250000</td>\n",
       "      <td>25.325000</td>\n",
       "      <td>30.880000</td>\n",
       "      <td>13096.278335</td>\n",
       "    </tr>\n",
       "    <tr>\n",
       "      <th>std</th>\n",
       "      <td>57.879185</td>\n",
       "      <td>1.226016</td>\n",
       "      <td>5.86665</td>\n",
       "      <td>12.264967</td>\n",
       "      <td>2.118957</td>\n",
       "      <td>2.457574</td>\n",
       "      <td>520.781501</td>\n",
       "      <td>41.977194</td>\n",
       "      <td>0.266971</td>\n",
       "      <td>0.315891</td>\n",
       "      <td>3.913718</td>\n",
       "      <td>39.76885</td>\n",
       "      <td>480.693529</td>\n",
       "      <td>6.571552</td>\n",
       "      <td>6.917722</td>\n",
       "      <td>7997.436540</td>\n",
       "    </tr>\n",
       "    <tr>\n",
       "      <th>min</th>\n",
       "      <td>1.000000</td>\n",
       "      <td>-2.000000</td>\n",
       "      <td>86.60000</td>\n",
       "      <td>141.100000</td>\n",
       "      <td>60.300000</td>\n",
       "      <td>47.800000</td>\n",
       "      <td>1488.000000</td>\n",
       "      <td>61.000000</td>\n",
       "      <td>2.540000</td>\n",
       "      <td>2.070000</td>\n",
       "      <td>7.000000</td>\n",
       "      <td>48.00000</td>\n",
       "      <td>4150.000000</td>\n",
       "      <td>13.000000</td>\n",
       "      <td>16.000000</td>\n",
       "      <td>5118.000000</td>\n",
       "    </tr>\n",
       "    <tr>\n",
       "      <th>25%</th>\n",
       "      <td>50.750000</td>\n",
       "      <td>0.000000</td>\n",
       "      <td>94.50000</td>\n",
       "      <td>166.300000</td>\n",
       "      <td>64.000000</td>\n",
       "      <td>52.000000</td>\n",
       "      <td>2143.750000</td>\n",
       "      <td>97.000000</td>\n",
       "      <td>3.150000</td>\n",
       "      <td>3.110000</td>\n",
       "      <td>8.500000</td>\n",
       "      <td>70.00000</td>\n",
       "      <td>4800.000000</td>\n",
       "      <td>19.000000</td>\n",
       "      <td>25.000000</td>\n",
       "      <td>7775.000000</td>\n",
       "    </tr>\n",
       "    <tr>\n",
       "      <th>50%</th>\n",
       "      <td>100.500000</td>\n",
       "      <td>1.000000</td>\n",
       "      <td>96.75000</td>\n",
       "      <td>173.000000</td>\n",
       "      <td>65.450000</td>\n",
       "      <td>54.000000</td>\n",
       "      <td>2410.000000</td>\n",
       "      <td>110.500000</td>\n",
       "      <td>3.310000</td>\n",
       "      <td>3.290000</td>\n",
       "      <td>9.000000</td>\n",
       "      <td>95.00000</td>\n",
       "      <td>5150.000000</td>\n",
       "      <td>24.500000</td>\n",
       "      <td>30.000000</td>\n",
       "      <td>10096.500000</td>\n",
       "    </tr>\n",
       "    <tr>\n",
       "      <th>75%</th>\n",
       "      <td>150.250000</td>\n",
       "      <td>2.000000</td>\n",
       "      <td>101.20000</td>\n",
       "      <td>180.225000</td>\n",
       "      <td>66.500000</td>\n",
       "      <td>55.525000</td>\n",
       "      <td>2910.500000</td>\n",
       "      <td>141.000000</td>\n",
       "      <td>3.580000</td>\n",
       "      <td>3.410000</td>\n",
       "      <td>9.400000</td>\n",
       "      <td>116.00000</td>\n",
       "      <td>5500.000000</td>\n",
       "      <td>30.000000</td>\n",
       "      <td>36.000000</td>\n",
       "      <td>16106.000000</td>\n",
       "    </tr>\n",
       "    <tr>\n",
       "      <th>max</th>\n",
       "      <td>200.000000</td>\n",
       "      <td>3.000000</td>\n",
       "      <td>120.90000</td>\n",
       "      <td>208.100000</td>\n",
       "      <td>72.300000</td>\n",
       "      <td>59.800000</td>\n",
       "      <td>4066.000000</td>\n",
       "      <td>326.000000</td>\n",
       "      <td>3.940000</td>\n",
       "      <td>4.170000</td>\n",
       "      <td>23.000000</td>\n",
       "      <td>288.00000</td>\n",
       "      <td>6600.000000</td>\n",
       "      <td>49.000000</td>\n",
       "      <td>54.000000</td>\n",
       "      <td>45400.000000</td>\n",
       "    </tr>\n",
       "  </tbody>\n",
       "</table>\n",
       "</div>"
      ],
      "text/plain": [
       "           car_ID   symboling  wheelbase   carlength    carwidth   carheight  \\\n",
       "count  200.000000  200.000000  200.00000  200.000000  200.000000  200.000000   \n",
       "mean   100.500000    0.880000   98.49800  173.680500   65.833500   53.680500   \n",
       "std     57.879185    1.226016    5.86665   12.264967    2.118957    2.457574   \n",
       "min      1.000000   -2.000000   86.60000  141.100000   60.300000   47.800000   \n",
       "25%     50.750000    0.000000   94.50000  166.300000   64.000000   52.000000   \n",
       "50%    100.500000    1.000000   96.75000  173.000000   65.450000   54.000000   \n",
       "75%    150.250000    2.000000  101.20000  180.225000   66.500000   55.525000   \n",
       "max    200.000000    3.000000  120.90000  208.100000   72.300000   59.800000   \n",
       "\n",
       "        curbweight  enginesize   boreratio      stroke  compressionratio  \\\n",
       "count   200.000000  200.000000  200.000000  200.000000        200.000000   \n",
       "mean   2542.995000  126.375000    3.323350    3.258200         10.098600   \n",
       "std     520.781501   41.977194    0.266971    0.315891          3.913718   \n",
       "min    1488.000000   61.000000    2.540000    2.070000          7.000000   \n",
       "25%    2143.750000   97.000000    3.150000    3.110000          8.500000   \n",
       "50%    2410.000000  110.500000    3.310000    3.290000          9.000000   \n",
       "75%    2910.500000  141.000000    3.580000    3.410000          9.400000   \n",
       "max    4066.000000  326.000000    3.940000    4.170000         23.000000   \n",
       "\n",
       "       horsepower      peakrpm     citympg  highwaympg         price  \n",
       "count   200.00000   200.000000  200.000000  200.000000    200.000000  \n",
       "mean    103.58000  5121.250000   25.325000   30.880000  13096.278335  \n",
       "std      39.76885   480.693529    6.571552    6.917722   7997.436540  \n",
       "min      48.00000  4150.000000   13.000000   16.000000   5118.000000  \n",
       "25%      70.00000  4800.000000   19.000000   25.000000   7775.000000  \n",
       "50%      95.00000  5150.000000   24.500000   30.000000  10096.500000  \n",
       "75%     116.00000  5500.000000   30.000000   36.000000  16106.000000  \n",
       "max     288.00000  6600.000000   49.000000   54.000000  45400.000000  "
      ]
     },
     "execution_count": 7,
     "metadata": {},
     "output_type": "execute_result"
    }
   ],
   "source": [
    "df.describe()"
   ]
  },
  {
   "cell_type": "code",
   "execution_count": 8,
   "id": "df8bed79-c25f-4761-8dab-f72d155d2bda",
   "metadata": {},
   "outputs": [
    {
     "data": {
      "text/html": [
       "<div>\n",
       "<style scoped>\n",
       "    .dataframe tbody tr th:only-of-type {\n",
       "        vertical-align: middle;\n",
       "    }\n",
       "\n",
       "    .dataframe tbody tr th {\n",
       "        vertical-align: top;\n",
       "    }\n",
       "\n",
       "    .dataframe thead th {\n",
       "        text-align: right;\n",
       "    }\n",
       "</style>\n",
       "<table border=\"1\" class=\"dataframe\">\n",
       "  <thead>\n",
       "    <tr style=\"text-align: right;\">\n",
       "      <th></th>\n",
       "      <th>fueltype</th>\n",
       "      <th>aspiration</th>\n",
       "      <th>doornumber</th>\n",
       "      <th>carbody</th>\n",
       "      <th>drivewheel</th>\n",
       "      <th>enginelocation</th>\n",
       "      <th>wheelbase</th>\n",
       "      <th>carlength</th>\n",
       "      <th>carwidth</th>\n",
       "      <th>carheight</th>\n",
       "      <th>curbweight</th>\n",
       "      <th>enginetype</th>\n",
       "      <th>cylindernumber</th>\n",
       "      <th>enginesize</th>\n",
       "      <th>fuelsystem</th>\n",
       "      <th>boreratio</th>\n",
       "      <th>stroke</th>\n",
       "      <th>compressionratio</th>\n",
       "      <th>horsepower</th>\n",
       "      <th>peakrpm</th>\n",
       "      <th>citympg</th>\n",
       "      <th>highwaympg</th>\n",
       "      <th>price</th>\n",
       "    </tr>\n",
       "  </thead>\n",
       "  <tbody>\n",
       "    <tr>\n",
       "      <th>0</th>\n",
       "      <td>gas</td>\n",
       "      <td>std</td>\n",
       "      <td>two</td>\n",
       "      <td>convertible</td>\n",
       "      <td>rwd</td>\n",
       "      <td>front</td>\n",
       "      <td>88.6</td>\n",
       "      <td>168.8</td>\n",
       "      <td>64.1</td>\n",
       "      <td>48.8</td>\n",
       "      <td>2548</td>\n",
       "      <td>dohc</td>\n",
       "      <td>four</td>\n",
       "      <td>130</td>\n",
       "      <td>mpfi</td>\n",
       "      <td>3.47</td>\n",
       "      <td>2.68</td>\n",
       "      <td>9.0</td>\n",
       "      <td>111</td>\n",
       "      <td>5000</td>\n",
       "      <td>21</td>\n",
       "      <td>27</td>\n",
       "      <td>13495.0</td>\n",
       "    </tr>\n",
       "    <tr>\n",
       "      <th>1</th>\n",
       "      <td>gas</td>\n",
       "      <td>std</td>\n",
       "      <td>two</td>\n",
       "      <td>convertible</td>\n",
       "      <td>rwd</td>\n",
       "      <td>front</td>\n",
       "      <td>88.6</td>\n",
       "      <td>168.8</td>\n",
       "      <td>64.1</td>\n",
       "      <td>48.8</td>\n",
       "      <td>2548</td>\n",
       "      <td>dohc</td>\n",
       "      <td>four</td>\n",
       "      <td>130</td>\n",
       "      <td>mpfi</td>\n",
       "      <td>3.47</td>\n",
       "      <td>2.68</td>\n",
       "      <td>9.0</td>\n",
       "      <td>111</td>\n",
       "      <td>5000</td>\n",
       "      <td>21</td>\n",
       "      <td>27</td>\n",
       "      <td>16500.0</td>\n",
       "    </tr>\n",
       "    <tr>\n",
       "      <th>2</th>\n",
       "      <td>gas</td>\n",
       "      <td>std</td>\n",
       "      <td>two</td>\n",
       "      <td>hatchback</td>\n",
       "      <td>rwd</td>\n",
       "      <td>front</td>\n",
       "      <td>94.5</td>\n",
       "      <td>171.2</td>\n",
       "      <td>65.5</td>\n",
       "      <td>52.4</td>\n",
       "      <td>2823</td>\n",
       "      <td>ohcv</td>\n",
       "      <td>six</td>\n",
       "      <td>152</td>\n",
       "      <td>mpfi</td>\n",
       "      <td>2.68</td>\n",
       "      <td>3.47</td>\n",
       "      <td>9.0</td>\n",
       "      <td>154</td>\n",
       "      <td>5000</td>\n",
       "      <td>19</td>\n",
       "      <td>26</td>\n",
       "      <td>16500.0</td>\n",
       "    </tr>\n",
       "    <tr>\n",
       "      <th>3</th>\n",
       "      <td>gas</td>\n",
       "      <td>std</td>\n",
       "      <td>four</td>\n",
       "      <td>sedan</td>\n",
       "      <td>fwd</td>\n",
       "      <td>front</td>\n",
       "      <td>99.8</td>\n",
       "      <td>176.6</td>\n",
       "      <td>66.2</td>\n",
       "      <td>54.3</td>\n",
       "      <td>2337</td>\n",
       "      <td>ohc</td>\n",
       "      <td>four</td>\n",
       "      <td>109</td>\n",
       "      <td>mpfi</td>\n",
       "      <td>3.19</td>\n",
       "      <td>3.40</td>\n",
       "      <td>10.0</td>\n",
       "      <td>102</td>\n",
       "      <td>5500</td>\n",
       "      <td>24</td>\n",
       "      <td>30</td>\n",
       "      <td>13950.0</td>\n",
       "    </tr>\n",
       "    <tr>\n",
       "      <th>4</th>\n",
       "      <td>gas</td>\n",
       "      <td>std</td>\n",
       "      <td>four</td>\n",
       "      <td>sedan</td>\n",
       "      <td>4wd</td>\n",
       "      <td>front</td>\n",
       "      <td>99.4</td>\n",
       "      <td>176.6</td>\n",
       "      <td>66.4</td>\n",
       "      <td>54.3</td>\n",
       "      <td>2824</td>\n",
       "      <td>ohc</td>\n",
       "      <td>five</td>\n",
       "      <td>136</td>\n",
       "      <td>mpfi</td>\n",
       "      <td>3.19</td>\n",
       "      <td>3.40</td>\n",
       "      <td>8.0</td>\n",
       "      <td>115</td>\n",
       "      <td>5500</td>\n",
       "      <td>18</td>\n",
       "      <td>22</td>\n",
       "      <td>17450.0</td>\n",
       "    </tr>\n",
       "  </tbody>\n",
       "</table>\n",
       "</div>"
      ],
      "text/plain": [
       "  fueltype aspiration doornumber      carbody drivewheel enginelocation  \\\n",
       "0      gas        std        two  convertible        rwd          front   \n",
       "1      gas        std        two  convertible        rwd          front   \n",
       "2      gas        std        two    hatchback        rwd          front   \n",
       "3      gas        std       four        sedan        fwd          front   \n",
       "4      gas        std       four        sedan        4wd          front   \n",
       "\n",
       "   wheelbase  carlength  carwidth  carheight  curbweight enginetype  \\\n",
       "0       88.6      168.8      64.1       48.8        2548       dohc   \n",
       "1       88.6      168.8      64.1       48.8        2548       dohc   \n",
       "2       94.5      171.2      65.5       52.4        2823       ohcv   \n",
       "3       99.8      176.6      66.2       54.3        2337        ohc   \n",
       "4       99.4      176.6      66.4       54.3        2824        ohc   \n",
       "\n",
       "  cylindernumber  enginesize fuelsystem  boreratio  stroke  compressionratio  \\\n",
       "0           four         130       mpfi       3.47    2.68               9.0   \n",
       "1           four         130       mpfi       3.47    2.68               9.0   \n",
       "2            six         152       mpfi       2.68    3.47               9.0   \n",
       "3           four         109       mpfi       3.19    3.40              10.0   \n",
       "4           five         136       mpfi       3.19    3.40               8.0   \n",
       "\n",
       "   horsepower  peakrpm  citympg  highwaympg    price  \n",
       "0         111     5000       21          27  13495.0  \n",
       "1         111     5000       21          27  16500.0  \n",
       "2         154     5000       19          26  16500.0  \n",
       "3         102     5500       24          30  13950.0  \n",
       "4         115     5500       18          22  17450.0  "
      ]
     },
     "execution_count": 8,
     "metadata": {},
     "output_type": "execute_result"
    }
   ],
   "source": [
    "df.drop(['car_ID','symboling','CarName'],axis=1,inplace=True)\n",
    "df.head()"
   ]
  },
  {
   "cell_type": "code",
   "execution_count": 9,
   "id": "f1e6b154-449b-4463-b51e-170b79bcc423",
   "metadata": {},
   "outputs": [],
   "source": [
    "x=df.iloc[:,:-1]\n",
    "y=df.iloc[:,-1]"
   ]
  },
  {
   "cell_type": "code",
   "execution_count": 10,
   "id": "d18acb1d-40fb-4ab2-8f24-11bd43419871",
   "metadata": {},
   "outputs": [
    {
     "data": {
      "text/plain": [
       "<Axes: >"
      ]
     },
     "execution_count": 10,
     "metadata": {},
     "output_type": "execute_result"
    },
    {
     "data": {
      "image/png": "[encoded data removed]",
      "text/plain": [
       "<Figure size 1000x400 with 2 Axes>"
      ]
     },
     "metadata": {},
     "output_type": "display_data"
    }
   ],
   "source": [
    "plt.figure(figsize=(10,4))\n",
    "x_df=x.select_dtypes(include='number')\n",
    "cor=x_df.corr()\n",
    "sns.heatmap(cor,annot=True)"
   ]
  },
  {
   "cell_type": "code",
   "execution_count": 11,
   "id": "873e2ade-373b-4195-8444-254955176b7e",
   "metadata": {},
   "outputs": [],
   "source": [
    "# With the following function we can select highly correlated features \n",
    "# it will remove the first feature that is correlated with anything other feature\n",
    "def correlation(dataset,threshold):\n",
    "    col_corr=set() # Set of all the names of correlated columns\n",
    "    corr_matrix=dataset.corr()\n",
    "    for i in range(len(corr_matrix.columns)):\n",
    "        for j in range(i):\n",
    "            if(corr_matrix.iloc[i,j])>threshold:\n",
    "                col_name=corr_matrix.columns[i]  # getting the name of column\n",
    "                col_corr.add(col_name)\n",
    "                \n",
    "    return col_corr"
   ]
  },
  {
   "cell_type": "code",
   "execution_count": 12,
   "id": "3384973f-a520-4375-9bfc-5ec525e740b8",
   "metadata": {},
   "outputs": [
    {
     "data": {
      "text/plain": [
       "6"
      ]
     },
     "execution_count": 12,
     "metadata": {},
     "output_type": "execute_result"
    }
   ],
   "source": [
    "# here we call the function and pass the dataset and threshold value \n",
    "# len function calculates the total number of correlation features\n",
    "correlation_features=correlation(x_df,0.8)\n",
    "len(set(correlation_features))"
   ]
  },
  {
   "cell_type": "code",
   "execution_count": 13,
   "id": "33ebb992-37ab-4f2a-840c-a985491d7f0f",
   "metadata": {},
   "outputs": [
    {
     "data": {
      "text/plain": [
       "{'carlength',\n",
       " 'carwidth',\n",
       " 'curbweight',\n",
       " 'enginesize',\n",
       " 'highwaympg',\n",
       " 'horsepower'}"
      ]
     },
     "execution_count": 13,
     "metadata": {},
     "output_type": "execute_result"
    }
   ],
   "source": [
    "correlation_features"
   ]
  },
  {
   "cell_type": "code",
   "execution_count": 14,
   "id": "40623974-6f23-418f-ab23-542b892aba1a",
   "metadata": {},
   "outputs": [],
   "source": [
    "# here we droping the correlation feature \n",
    "x.drop(correlation_features,axis=1,inplace=True)"
   ]
  },
  {
   "cell_type": "code",
   "execution_count": 15,
   "id": "07bfef73-c1c1-498d-9680-c1b89c225563",
   "metadata": {},
   "outputs": [
    {
     "data": {
      "text/plain": [
       "(200, 16)"
      ]
     },
     "execution_count": 15,
     "metadata": {},
     "output_type": "execute_result"
    }
   ],
   "source": [
    "x.shape"
   ]
  },
  {
   "cell_type": "code",
   "execution_count": 16,
   "id": "adf85bc9-c7d3-44c0-9c4f-cf3b80ad2b36",
   "metadata": {},
   "outputs": [
    {
     "name": "stdout",
     "output_type": "stream",
     "text": [
      "['gas' 'diesel'] fueltype\n",
      "['std' 'turbo'] aspiration\n",
      "['two' 'four'] doornumber\n",
      "['convertible' 'hatchback' 'sedan' 'wagon' 'hardtop'] carbody\n",
      "['rwd' 'fwd' '4wd'] drivewheel\n",
      "['front' 'rear'] enginelocation\n",
      "[ 88.6  94.5  99.8  99.4 105.8  99.5 101.2 103.5 110.   88.4  93.7 103.3\n",
      "  95.9  86.6  96.5  94.3  96.  113.  102.   93.1  95.3  98.8 104.9 106.7\n",
      " 115.6  96.6 120.9 112.  102.7  93.   96.3  95.1  97.2 100.4  91.3  99.2\n",
      " 107.9 114.2 108.   89.5  98.4  96.1  99.1  93.3  97.   96.9  95.7 102.4\n",
      " 102.9 104.5  97.3 104.3] wheelbase\n",
      "[48.8 52.4 54.3 53.1 55.7 55.9 52.  53.7 56.3 53.2 50.8 50.6 59.8 50.2\n",
      " 52.6 54.5 58.3 53.3 54.1 51.  53.5 51.4 52.8 47.8 49.6 55.5 54.4 56.5\n",
      " 58.7 54.9 56.7 55.4 54.8 49.4 51.6 54.7 55.1 56.1 49.7 56.  50.5 55.2\n",
      " 52.5 53.  59.1 53.9 55.6 56.2 57.5] carheight\n",
      "['dohc' 'ohcv' 'ohc' 'l' 'rotor' 'ohcf' 'dohcv'] enginetype\n",
      "['four' 'six' 'five' 'three' 'twelve' 'two' 'eight'] cylindernumber\n",
      "['mpfi' '2bbl' 'mfi' '1bbl' 'spfi' '4bbl' 'idi' 'spdi'] fuelsystem\n",
      "[3.47 2.68 3.19 3.13 3.5  3.31 3.62 2.91 3.03 2.97 3.34 3.6  2.92 3.15\n",
      " 3.43 3.63 3.54 3.08 3.33 3.39 3.76 3.58 3.46 3.8  3.78 3.17 3.35 3.59\n",
      " 2.99 3.7  3.61 3.94 3.74 2.54 3.05 3.27 3.24 3.01] boreratio\n",
      "[2.68  3.47  3.4   2.8   3.19  3.39  3.03  3.11  3.23  3.46  3.9   3.41\n",
      " 3.07  3.58  4.17  2.76  3.15  3.255 3.16  3.64  3.1   3.35  3.12  3.86\n",
      " 3.29  3.27  3.52  2.19  3.21  2.9   2.07  2.36  2.64  3.08  3.5   3.54 ] stroke\n",
      "[ 9.   10.    8.    8.5   8.3   7.    8.8   9.5   9.6   9.41  9.4   7.6\n",
      "  9.2  10.1   9.1   8.1  11.5   8.6  22.7  22.   21.5   7.5  21.9   7.8\n",
      "  8.4  21.    8.7   9.31  9.3   7.7  22.5  23.  ] compressionratio\n",
      "[5000 5500 5800 4250 5400 5100 4800 6000 4750 4650 4200 4350 4500 5200\n",
      " 4150 5600 5900 5750 5250 4900 4400 6600] peakrpm\n",
      "[21 19 24 18 17 16 23 20 15 47 38 37 31 49 30 27 25 13 26 36 22 14 45 28\n",
      " 32 35 34 29 33] citympg\n"
     ]
    }
   ],
   "source": [
    "for each_col in x:\n",
    "    #print('\\n')\n",
    "    print(x[each_col].unique(), each_col)"
   ]
  },
  {
   "cell_type": "code",
   "execution_count": 17,
   "id": "2c4f007d-a89a-4f52-aea6-ff9d7a836060",
   "metadata": {},
   "outputs": [],
   "source": [
    "# Here we done encoding for  categorical features using get dummies method \n",
    "encode = pd.get_dummies(x, columns = ['fueltype','aspiration','doornumber','carbody','drivewheel',\n",
    "                                      'enginelocation','enginetype','cylindernumber','fuelsystem'],drop_first=True)"
   ]
  },
  {
   "cell_type": "code",
   "execution_count": 18,
   "id": "d71d18de-64cb-4f74-aaea-33186c2432d5",
   "metadata": {},
   "outputs": [],
   "source": [
    "# converting the values of y in numpy array \n",
    "y=y.values"
   ]
  },
  {
   "cell_type": "code",
   "execution_count": 19,
   "id": "78cf3373-b1ce-46dc-ad93-ccb8311f6e12",
   "metadata": {},
   "outputs": [],
   "source": [
    "# here encode contains indepedent features and\n",
    "# y contains dependent column\n",
    "from sklearn.model_selection import train_test_split\n",
    "x_train,x_test,y_train,y_test = train_test_split(encode,y,test_size=0.2,random_state=15)\n",
    "# here 0.2 means , 80 percent of data is used for training and remaining 20 percent of data used for testing "
   ]
  },
  {
   "cell_type": "code",
   "execution_count": 20,
   "id": "7a9b3db7-b7ad-44c4-b5fe-255896331180",
   "metadata": {},
   "outputs": [],
   "source": [
    "#pip install SciKit-Learn"
   ]
  },
  {
   "cell_type": "code",
   "execution_count": 21,
   "id": "51926471-e163-44ce-a9d6-9f2c80520df8",
   "metadata": {},
   "outputs": [],
   "source": [
    "# feature scaling\n",
    "from sklearn.preprocessing import StandardScaler\n",
    "sc = StandardScaler()\n",
    "x_train=sc.fit_transform(x_train)\n",
    "x_test=sc.transform(x_test)"
   ]
  },
  {
   "cell_type": "code",
   "execution_count": 22,
   "id": "d04bbfa4-340c-4398-9980-fa0c9b561f73",
   "metadata": {},
   "outputs": [
    {
     "data": {
      "text/plain": [
       "(160, 36)"
      ]
     },
     "execution_count": 22,
     "metadata": {},
     "output_type": "execute_result"
    }
   ],
   "source": [
    "x_train.shape"
   ]
  },
  {
   "cell_type": "code",
   "execution_count": 23,
   "id": "efac7046-47ea-4b1d-a47a-4aa51edd28fb",
   "metadata": {},
   "outputs": [],
   "source": [
    "from tensorflow.keras.models import Sequential\n",
    "from tensorflow.keras.layers import Dense,Dropout\n",
    "from tensorflow.keras.layers import ReLU"
   ]
  },
  {
   "cell_type": "code",
   "execution_count": 24,
   "id": "3f64e074-94e9-44be-9446-563d212729dc",
   "metadata": {},
   "outputs": [],
   "source": [
    "seq=Sequential()"
   ]
  },
  {
   "cell_type": "code",
   "execution_count": 25,
   "id": "a06e5cb9-e7db-42c6-a2b8-d1ad3f89a29c",
   "metadata": {},
   "outputs": [],
   "source": [
    "#add input layer\n",
    "seq.add(Dense(units=36,activation='ReLU'))\n",
    "seq.add(Dropout(0.5))"
   ]
  },
  {
   "cell_type": "code",
   "execution_count": 26,
   "id": "cdcb7e36-4792-4046-8907-cfb6747bcc28",
   "metadata": {},
   "outputs": [],
   "source": [
    "#adding hidden lauyer\n",
    "seq.add(Dense(units=26,activation='ReLU'))\n",
    "seq.add(Dropout(0.3))"
   ]
  },
  {
   "cell_type": "code",
   "execution_count": 27,
   "id": "2c2ccde6-69bf-4df0-aacc-3e3dff0e511b",
   "metadata": {},
   "outputs": [],
   "source": [
    "#adding second hidden layer\n",
    "seq.add(Dense(units=18,activation='ReLU'))\n",
    "seq.add(Dropout(0.2))"
   ]
  },
  {
   "cell_type": "code",
   "execution_count": 28,
   "id": "3cfa03f6-b3c3-4e41-81e8-7ac2fbc13564",
   "metadata": {},
   "outputs": [],
   "source": [
    "seq.add(Dense(units=8,activation='ReLU'))\n",
    "seq.add(Dropout(0.01))"
   ]
  },
  {
   "cell_type": "code",
   "execution_count": 29,
   "id": "c15e306d-3936-4982-9335-a451c06d6cbb",
   "metadata": {},
   "outputs": [],
   "source": [
    "#adding output layer\n",
    "seq.add(Dense(units=1,activation='linear'))"
   ]
  },
  {
   "cell_type": "code",
   "execution_count": 30,
   "id": "b12e3b19-3f4d-4c42-8563-5da62443854c",
   "metadata": {},
   "outputs": [],
   "source": [
    "seq.compile(loss='mean_squared_error', optimizer='adam',metrics=['mae'])"
   ]
  },
  {
   "cell_type": "code",
   "execution_count": 31,
   "id": "22da4bdd-9e7f-4e1c-8fdd-12246f46a305",
   "metadata": {
    "scrolled": true
   },
   "outputs": [
    {
     "name": "stdout",
     "output_type": "stream",
     "text": [
      "Epoch 1/40\n",
      "16/16 [==============================] - 2s 19ms/step - loss: 225904928.0000 - mae: 12802.2627 - val_loss: 272195776.0000 - val_mae: 14273.9922\n",
      "Epoch 2/40\n",
      "16/16 [==============================] - 0s 5ms/step - loss: 225885184.0000 - mae: 12801.6104 - val_loss: 272184256.0000 - val_mae: 14273.6484\n",
      "Epoch 3/40\n",
      "16/16 [==============================] - 0s 5ms/step - loss: 225875888.0000 - mae: 12801.2852 - val_loss: 272171456.0000 - val_mae: 14273.2402\n",
      "Epoch 4/40\n",
      "16/16 [==============================] - 0s 5ms/step - loss: 225861968.0000 - mae: 12800.7754 - val_loss: 272151456.0000 - val_mae: 14272.6221\n",
      "Epoch 5/40\n",
      "16/16 [==============================] - 0s 5ms/step - loss: 225843536.0000 - mae: 12800.0811 - val_loss: 272120320.0000 - val_mae: 14271.6504\n",
      "Epoch 6/40\n",
      "16/16 [==============================] - 0s 5ms/step - loss: 225801168.0000 - mae: 12798.7168 - val_loss: 272067840.0000 - val_mae: 14269.9971\n",
      "Epoch 7/40\n",
      "16/16 [==============================] - 0s 5ms/step - loss: 225739648.0000 - mae: 12796.7139 - val_loss: 271961696.0000 - val_mae: 14266.7578\n",
      "Epoch 8/40\n",
      "16/16 [==============================] - 0s 5ms/step - loss: 225632256.0000 - mae: 12792.9141 - val_loss: 271753280.0000 - val_mae: 14260.5156\n",
      "Epoch 9/40\n",
      "16/16 [==============================] - 0s 5ms/step - loss: 225386496.0000 - mae: 12784.1455 - val_loss: 271332960.0000 - val_mae: 14248.0186\n",
      "Epoch 10/40\n",
      "16/16 [==============================] - 0s 5ms/step - loss: 224855328.0000 - mae: 12767.1377 - val_loss: 270423968.0000 - val_mae: 14221.4238\n",
      "Epoch 11/40\n",
      "16/16 [==============================] - 0s 5ms/step - loss: 223673568.0000 - mae: 12731.4902 - val_loss: 268478048.0000 - val_mae: 14165.3809\n",
      "Epoch 12/40\n",
      "16/16 [==============================] - 0s 5ms/step - loss: 221559632.0000 - mae: 12663.0449 - val_loss: 264676528.0000 - val_mae: 14057.2969\n",
      "Epoch 13/40\n",
      "16/16 [==============================] - 0s 6ms/step - loss: 218125088.0000 - mae: 12556.2041 - val_loss: 257991776.0000 - val_mae: 13867.9795\n",
      "Epoch 14/40\n",
      "16/16 [==============================] - 0s 5ms/step - loss: 211758496.0000 - mae: 12349.8408 - val_loss: 247224160.0000 - val_mae: 13560.6172\n",
      "Epoch 15/40\n",
      "16/16 [==============================] - 0s 5ms/step - loss: 202206256.0000 - mae: 12046.9482 - val_loss: 229885344.0000 - val_mae: 13060.0332\n",
      "Epoch 16/40\n",
      "16/16 [==============================] - 0s 5ms/step - loss: 184132480.0000 - mae: 11507.5996 - val_loss: 205519648.0000 - val_mae: 12323.5293\n",
      "Epoch 17/40\n",
      "16/16 [==============================] - 0s 5ms/step - loss: 161920384.0000 - mae: 10736.3770 - val_loss: 172236240.0000 - val_mae: 11246.4014\n",
      "Epoch 18/40\n",
      "16/16 [==============================] - 0s 5ms/step - loss: 128433960.0000 - mae: 9566.4160 - val_loss: 131191888.0000 - val_mae: 9759.9668\n",
      "Epoch 19/40\n",
      "16/16 [==============================] - 0s 5ms/step - loss: 98156720.0000 - mae: 8125.4399 - val_loss: 91638720.0000 - val_mae: 8043.6689\n",
      "Epoch 20/40\n",
      "16/16 [==============================] - 0s 5ms/step - loss: 66804684.0000 - mae: 6689.4805 - val_loss: 56113192.0000 - val_mae: 6066.1299\n",
      "Epoch 21/40\n",
      "16/16 [==============================] - 0s 4ms/step - loss: 49763704.0000 - mae: 5601.8418 - val_loss: 32750758.0000 - val_mae: 4443.0640\n",
      "Epoch 22/40\n",
      "16/16 [==============================] - 0s 5ms/step - loss: 40035472.0000 - mae: 4818.9082 - val_loss: 20154528.0000 - val_mae: 3355.9634\n",
      "Epoch 23/40\n",
      "16/16 [==============================] - 0s 5ms/step - loss: 45592420.0000 - mae: 4918.0410 - val_loss: 16109586.0000 - val_mae: 2939.9961\n",
      "Epoch 24/40\n",
      "16/16 [==============================] - 0s 5ms/step - loss: 36049284.0000 - mae: 4527.8311 - val_loss: 15233624.0000 - val_mae: 2866.3391\n",
      "Epoch 25/40\n",
      "16/16 [==============================] - 0s 5ms/step - loss: 26938156.0000 - mae: 3934.1792 - val_loss: 14886890.0000 - val_mae: 2791.1919\n",
      "Epoch 26/40\n",
      "16/16 [==============================] - 0s 5ms/step - loss: 36116568.0000 - mae: 4375.5249 - val_loss: 14924547.0000 - val_mae: 2732.9143\n",
      "Epoch 27/40\n",
      "16/16 [==============================] - 0s 5ms/step - loss: 28138204.0000 - mae: 3888.0532 - val_loss: 13625920.0000 - val_mae: 2621.8691\n",
      "Epoch 28/40\n",
      "16/16 [==============================] - 0s 5ms/step - loss: 29874964.0000 - mae: 4021.9048 - val_loss: 13669944.0000 - val_mae: 2621.1587\n",
      "Epoch 29/40\n",
      "16/16 [==============================] - 0s 5ms/step - loss: 30802614.0000 - mae: 4015.2703 - val_loss: 14864482.0000 - val_mae: 2692.3950\n",
      "Epoch 30/40\n",
      "16/16 [==============================] - 0s 5ms/step - loss: 30577318.0000 - mae: 3941.4211 - val_loss: 15793486.0000 - val_mae: 2745.6455\n",
      "Epoch 31/40\n",
      "16/16 [==============================] - 0s 5ms/step - loss: 34522488.0000 - mae: 3923.9246 - val_loss: 18064714.0000 - val_mae: 2891.1135\n",
      "Epoch 32/40\n",
      "16/16 [==============================] - 0s 5ms/step - loss: 28517956.0000 - mae: 3898.7422 - val_loss: 18065162.0000 - val_mae: 2870.4053\n",
      "Epoch 33/40\n",
      "16/16 [==============================] - 0s 4ms/step - loss: 26635912.0000 - mae: 3645.1160 - val_loss: 16634800.0000 - val_mae: 2746.4368\n",
      "Epoch 34/40\n",
      "16/16 [==============================] - 0s 4ms/step - loss: 24457710.0000 - mae: 3705.1316 - val_loss: 15576944.0000 - val_mae: 2677.1316\n",
      "Epoch 35/40\n",
      "16/16 [==============================] - 0s 4ms/step - loss: 23744126.0000 - mae: 3543.6582 - val_loss: 15164442.0000 - val_mae: 2661.1687\n",
      "Epoch 36/40\n",
      "16/16 [==============================] - 0s 5ms/step - loss: 36330600.0000 - mae: 4134.3936 - val_loss: 15677293.0000 - val_mae: 2687.6169\n",
      "Epoch 37/40\n",
      "16/16 [==============================] - 0s 5ms/step - loss: 30198108.0000 - mae: 3944.0703 - val_loss: 15436176.0000 - val_mae: 2666.2720\n",
      "Epoch 38/40\n",
      "16/16 [==============================] - 0s 4ms/step - loss: 33614264.0000 - mae: 4336.0044 - val_loss: 14851149.0000 - val_mae: 2625.0349\n",
      "Epoch 39/40\n",
      "16/16 [==============================] - 0s 4ms/step - loss: 26251752.0000 - mae: 3724.8640 - val_loss: 14115224.0000 - val_mae: 2573.1091\n",
      "Epoch 40/40\n",
      "16/16 [==============================] - 0s 5ms/step - loss: 22428186.0000 - mae: 3641.5762 - val_loss: 14826125.0000 - val_mae: 2618.0940\n"
     ]
    },
    {
     "data": {
      "text/plain": [
       "<keras.src.callbacks.History at 0x1dda873abd0>"
      ]
     },
     "execution_count": 31,
     "metadata": {},
     "output_type": "execute_result"
    }
   ],
   "source": [
    "seq.fit(x_train,y_train,validation_data=(x_test,y_test),epochs=40,batch_size=10,verbose=1)"
   ]
  },
  {
   "cell_type": "code",
   "execution_count": null,
   "id": "5c9d72d7-8c25-4579-a7cb-dfec2e42abda",
   "metadata": {},
   "outputs": [],
   "source": []
  },
  {
   "cell_type": "code",
   "execution_count": 32,
   "id": "3b1ac53c-9c09-40c2-a40b-c00fc716bb2f",
   "metadata": {
    "scrolled": true
   },
   "outputs": [
    {
     "name": "stdout",
     "output_type": "stream",
     "text": [
      "2/2 [==============================] - 0s 4ms/step\n"
     ]
    },
    {
     "data": {
      "text/plain": [
       "array([[23245.66  ],\n",
       "       [16828.86  ],\n",
       "       [22068.67  ],\n",
       "       [15869.314 ],\n",
       "       [29749.21  ],\n",
       "       [ 6937.4253],\n",
       "       [ 5543.241 ],\n",
       "       [15144.882 ],\n",
       "       [ 6034.671 ],\n",
       "       [11307.64  ],\n",
       "       [ 9896.596 ],\n",
       "       [21817.834 ],\n",
       "       [ 6370.1143],\n",
       "       [ 6150.537 ],\n",
       "       [14647.08  ],\n",
       "       [ 6752.0625],\n",
       "       [15749.507 ],\n",
       "       [13975.844 ],\n",
       "       [ 7979.1006],\n",
       "       [20962.305 ],\n",
       "       [15471.361 ],\n",
       "       [ 6329.04  ],\n",
       "       [13975.844 ],\n",
       "       [12740.16  ],\n",
       "       [12345.285 ],\n",
       "       [ 6269.9966],\n",
       "       [ 8753.965 ],\n",
       "       [20118.283 ],\n",
       "       [ 6616.384 ],\n",
       "       [ 6628.835 ],\n",
       "       [ 6481.767 ],\n",
       "       [ 9875.902 ],\n",
       "       [11589.781 ],\n",
       "       [27919.432 ],\n",
       "       [ 6564.5254],\n",
       "       [16350.01  ],\n",
       "       [ 6515.3647],\n",
       "       [15687.3   ],\n",
       "       [ 6287.979 ],\n",
       "       [21182.09  ]], dtype=float32)"
      ]
     },
     "execution_count": 32,
     "metadata": {},
     "output_type": "execute_result"
    }
   ],
   "source": [
    "y_pred=seq.predict(x_test) # using our regression model we predict the predicted values using testing dataset \n",
    "y_pred"
   ]
  },
  {
   "cell_type": "code",
   "execution_count": 33,
   "id": "e0a9e90d-5b09-43c0-8377-cb79bc678dd1",
   "metadata": {},
   "outputs": [
    {
     "data": {
      "text/plain": [
       "array([36000.   , 13295.   , 20970.   , 17669.   , 34028.   , 10295.   ,\n",
       "        6479.   , 11199.   ,  5118.   , 13645.   , 13845.   , 35056.   ,\n",
       "        5348.   ,  7463.   , 15645.   ,  7609.   , 17859.167, 16630.   ,\n",
       "        7995.   , 18420.   , 18150.   ,  7295.   , 11900.   , 16695.   ,\n",
       "        9298.   ,  8358.   , 10198.   , 18280.   ,  6229.   ,  5572.   ,\n",
       "        6649.   ,  9995.   , 18150.   , 34184.   ,  7053.   , 16500.   ,\n",
       "        8189.   , 17950.   ,  7349.   , 18399.   ])"
      ]
     },
     "execution_count": 33,
     "metadata": {},
     "output_type": "execute_result"
    }
   ],
   "source": [
    "y_test"
   ]
  },
  {
   "cell_type": "code",
   "execution_count": 34,
   "id": "75bc0cf3-1efb-4111-9ebf-e03560383960",
   "metadata": {},
   "outputs": [
    {
     "data": {
      "text/plain": [
       "0.7833930190720657"
      ]
     },
     "execution_count": 34,
     "metadata": {},
     "output_type": "execute_result"
    }
   ],
   "source": [
    "from sklearn.metrics import r2_score\n",
    "score=r2_score(y_test,y_pred)\n",
    "score"
   ]
  },
  {
   "cell_type": "code",
   "execution_count": 35,
   "id": "2da5ebce-f96a-479a-8141-dcb954d0bf61",
   "metadata": {},
   "outputs": [
    {
     "name": "stdout",
     "output_type": "stream",
     "text": [
      "R-squared on Test Data: [14826125.0, 2618.09423828125]\n"
     ]
    }
   ],
   "source": [
    " r2 = seq.evaluate(x_test, y_test, verbose=0)\n",
    "print(f'R-squared on Test Data: {r2}')"
   ]
  },
  {
   "cell_type": "code",
   "execution_count": null,
   "id": "a7f0401d-f570-4117-b779-4e8f715b01ba",
   "metadata": {},
   "outputs": [],
   "source": []
  }
 ],
 "metadata": {
  "kernelspec": {
   "display_name": "Python 3 (ipykernel)",
   "language": "python",
   "name": "python3"
  },
  "language_info": {
   "codemirror_mode": {
    "name": "ipython",
    "version": 3
   },
   "file_extension": ".py",
   "mimetype": "text/x-python",
   "name": "python",
   "nbconvert_exporter": "python",
   "pygments_lexer": "ipython3",
   "version": "3.11.5"
  }
 },
 "nbformat": 4,
 "nbformat_minor": 5
}
